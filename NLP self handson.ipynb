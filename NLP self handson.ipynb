{
 "cells": [
  {
   "cell_type": "code",
   "execution_count": null,
   "id": "51945ee4",
   "metadata": {},
   "outputs": [],
   "source": [
    "# Pre-processing\n",
    "# Bags of words\n",
    "# Tf-idf\n",
    "# Build the model and evaluate the performance"
   ]
  },
  {
   "cell_type": "code",
   "execution_count": 2,
   "id": "5c58657f",
   "metadata": {},
   "outputs": [
    {
     "name": "stdout",
     "output_type": "stream",
     "text": [
      "Collecting contractions\n",
      "  Downloading contractions-0.1.73-py2.py3-none-any.whl.metadata (1.2 kB)\n",
      "Collecting textsearch>=0.0.21 (from contractions)\n",
      "  Downloading textsearch-0.0.24-py2.py3-none-any.whl.metadata (1.2 kB)\n",
      "Collecting anyascii (from textsearch>=0.0.21->contractions)\n",
      "  Downloading anyascii-0.3.2-py3-none-any.whl.metadata (1.5 kB)\n",
      "Collecting pyahocorasick (from textsearch>=0.0.21->contractions)\n",
      "  Downloading pyahocorasick-2.1.0-cp311-cp311-win_amd64.whl.metadata (13 kB)\n",
      "Downloading contractions-0.1.73-py2.py3-none-any.whl (8.7 kB)\n",
      "Downloading textsearch-0.0.24-py2.py3-none-any.whl (7.6 kB)\n",
      "Downloading anyascii-0.3.2-py3-none-any.whl (289 kB)\n",
      "   ---------------------------------------- 0.0/289.9 kB ? eta -:--:--\n",
      "   --------- ------------------------------ 71.7/289.9 kB 1.9 MB/s eta 0:00:01\n",
      "   ------------------------------- -------- 225.3/289.9 kB 2.7 MB/s eta 0:00:01\n",
      "   ---------------------------------------  286.7/289.9 kB 2.2 MB/s eta 0:00:01\n",
      "   ---------------------------------------- 289.9/289.9 kB 2.2 MB/s eta 0:00:00\n",
      "Downloading pyahocorasick-2.1.0-cp311-cp311-win_amd64.whl (39 kB)\n",
      "Installing collected packages: pyahocorasick, anyascii, textsearch, contractions\n",
      "Successfully installed anyascii-0.3.2 contractions-0.1.73 pyahocorasick-2.1.0 textsearch-0.0.24\n",
      "Requirement already satisfied: contractions in c:\\users\\lenovo\\anaconda3\\lib\\site-packages (0.1.73)\n",
      "Requirement already satisfied: textsearch>=0.0.21 in c:\\users\\lenovo\\anaconda3\\lib\\site-packages (from contractions) (0.0.24)\n",
      "Requirement already satisfied: anyascii in c:\\users\\lenovo\\anaconda3\\lib\\site-packages (from textsearch>=0.0.21->contractions) (0.3.2)\n",
      "Requirement already satisfied: pyahocorasick in c:\\users\\lenovo\\anaconda3\\lib\\site-packages (from textsearch>=0.0.21->contractions) (2.1.0)\n"
     ]
    }
   ],
   "source": [
    "!pip install contractions"
   ]
  },
  {
   "cell_type": "code",
   "execution_count": 84,
   "id": "d8999929",
   "metadata": {},
   "outputs": [
    {
     "name": "stderr",
     "output_type": "stream",
     "text": [
      "[nltk_data] Downloading package stopwords to\n",
      "[nltk_data]     C:\\Users\\LENOVO\\AppData\\Roaming\\nltk_data...\n",
      "[nltk_data]   Package stopwords is already up-to-date!\n",
      "[nltk_data] Downloading package punkt to\n",
      "[nltk_data]     C:\\Users\\LENOVO\\AppData\\Roaming\\nltk_data...\n",
      "[nltk_data]   Unzipping tokenizers\\punkt.zip.\n",
      "[nltk_data] Downloading package wordnet to\n",
      "[nltk_data]     C:\\Users\\LENOVO\\AppData\\Roaming\\nltk_data...\n"
     ]
    }
   ],
   "source": [
    "import numpy as np\n",
    "import pandas as pd\n",
    "import re,string,unicodedata\n",
    "# Regex: kunal.shukla@gmail.com, it is used for extracting the first and last name\n",
    "# string\n",
    "# unicodedata\n",
    "import contractions\n",
    "# contractions: I've --> I have\n",
    "from bs4 import BeautifulSoup\n",
    "# BeautifulSoup:\n",
    "import nltk\n",
    "# nltk: Natural language tool-kit\n",
    "nltk.download('stopwords')\n",
    "nltk.download('punkt')\n",
    "nltk.download('wordnet')\n",
    "# Words such as I, am, the, a, but, or, etc\n",
    "from nltk.corpus import stopwords\n",
    "from nltk.tokenize import word_tokenize,sent_tokenize\n",
    "# word_tokenize\n",
    "# sent_tokenize\n",
    "from nltk.stem.wordnet import WordNetLemmatizer\n",
    "# It is use for conerting words of different tense into one word. Ran, running will be converted to run.\n",
    "import matplotlib.pyplot as plt\n",
    "import seaborn as sns"
   ]
  },
  {
   "cell_type": "code",
   "execution_count": 27,
   "id": "bc3dcfd1",
   "metadata": {},
   "outputs": [
    {
     "data": {
      "text/html": [
       "<div>\n",
       "<style scoped>\n",
       "    .dataframe tbody tr th:only-of-type {\n",
       "        vertical-align: middle;\n",
       "    }\n",
       "\n",
       "    .dataframe tbody tr th {\n",
       "        vertical-align: top;\n",
       "    }\n",
       "\n",
       "    .dataframe thead th {\n",
       "        text-align: right;\n",
       "    }\n",
       "</style>\n",
       "<table border=\"1\" class=\"dataframe\">\n",
       "  <thead>\n",
       "    <tr style=\"text-align: right;\">\n",
       "      <th></th>\n",
       "      <th>tweet_id</th>\n",
       "      <th>airline_sentiment</th>\n",
       "      <th>airline_sentiment_confidence</th>\n",
       "      <th>negativereason</th>\n",
       "      <th>negativereason_confidence</th>\n",
       "      <th>airline</th>\n",
       "      <th>airline_sentiment_gold</th>\n",
       "      <th>name</th>\n",
       "      <th>negativereason_gold</th>\n",
       "      <th>retweet_count</th>\n",
       "      <th>text</th>\n",
       "      <th>tweet_coord</th>\n",
       "      <th>tweet_created</th>\n",
       "      <th>tweet_location</th>\n",
       "      <th>user_timezone</th>\n",
       "    </tr>\n",
       "  </thead>\n",
       "  <tbody>\n",
       "    <tr>\n",
       "      <th>6773</th>\n",
       "      <td>570287886135918593</td>\n",
       "      <td>neutral</td>\n",
       "      <td>1.0000</td>\n",
       "      <td>NaN</td>\n",
       "      <td>NaN</td>\n",
       "      <td>Delta</td>\n",
       "      <td>NaN</td>\n",
       "      <td>DaniP0915</td>\n",
       "      <td>NaN</td>\n",
       "      <td>0</td>\n",
       "      <td>@JetBlue flying w/ infant for the 1st time, ca...</td>\n",
       "      <td>NaN</td>\n",
       "      <td>2015-02-24 10:23:22 -0800</td>\n",
       "      <td>ÜT: 40.907502,-73.85468</td>\n",
       "      <td>Quito</td>\n",
       "    </tr>\n",
       "    <tr>\n",
       "      <th>244</th>\n",
       "      <td>569180623165915137</td>\n",
       "      <td>positive</td>\n",
       "      <td>0.6771</td>\n",
       "      <td>NaN</td>\n",
       "      <td>NaN</td>\n",
       "      <td>Virgin America</td>\n",
       "      <td>NaN</td>\n",
       "      <td>InuAtah</td>\n",
       "      <td>NaN</td>\n",
       "      <td>0</td>\n",
       "      <td>@VirginAmerica classiq, luv Virgin America. Gr...</td>\n",
       "      <td>NaN</td>\n",
       "      <td>2015-02-21 09:03:30 -0800</td>\n",
       "      <td>Abuja</td>\n",
       "      <td>NaN</td>\n",
       "    </tr>\n",
       "    <tr>\n",
       "      <th>12252</th>\n",
       "      <td>570250940290342914</td>\n",
       "      <td>negative</td>\n",
       "      <td>0.6866</td>\n",
       "      <td>Lost Luggage</td>\n",
       "      <td>0.3520</td>\n",
       "      <td>American</td>\n",
       "      <td>NaN</td>\n",
       "      <td>Kukirani</td>\n",
       "      <td>NaN</td>\n",
       "      <td>0</td>\n",
       "      <td>@AmericanAir hi we have lost and found solutio...</td>\n",
       "      <td>NaN</td>\n",
       "      <td>2015-02-24 07:56:33 -0800</td>\n",
       "      <td>Worldwide</td>\n",
       "      <td>NaN</td>\n",
       "    </tr>\n",
       "    <tr>\n",
       "      <th>4842</th>\n",
       "      <td>569685259412836354</td>\n",
       "      <td>negative</td>\n",
       "      <td>1.0000</td>\n",
       "      <td>Customer Service Issue</td>\n",
       "      <td>0.6362</td>\n",
       "      <td>Southwest</td>\n",
       "      <td>NaN</td>\n",
       "      <td>bmeshoulam</td>\n",
       "      <td>NaN</td>\n",
       "      <td>0</td>\n",
       "      <td>@SouthwestAir Tough I can take. Zero meaningfu...</td>\n",
       "      <td>NaN</td>\n",
       "      <td>2015-02-22 18:28:44 -0800</td>\n",
       "      <td>Cambridge, MA</td>\n",
       "      <td>Atlantic Time (Canada)</td>\n",
       "    </tr>\n",
       "    <tr>\n",
       "      <th>12219</th>\n",
       "      <td>570259700937134080</td>\n",
       "      <td>neutral</td>\n",
       "      <td>0.7068</td>\n",
       "      <td>NaN</td>\n",
       "      <td>0.0000</td>\n",
       "      <td>American</td>\n",
       "      <td>NaN</td>\n",
       "      <td>Jacqueline062</td>\n",
       "      <td>NaN</td>\n",
       "      <td>0</td>\n",
       "      <td>“@AmericanAir: Bet these birds wish they'd flo...</td>\n",
       "      <td>NaN</td>\n",
       "      <td>2015-02-24 08:31:22 -0800</td>\n",
       "      <td>Dallas, Texas</td>\n",
       "      <td>Central Time (US &amp; Canada)</td>\n",
       "    </tr>\n",
       "  </tbody>\n",
       "</table>\n",
       "</div>"
      ],
      "text/plain": [
       "                 tweet_id airline_sentiment  airline_sentiment_confidence  \\\n",
       "6773   570287886135918593           neutral                        1.0000   \n",
       "244    569180623165915137          positive                        0.6771   \n",
       "12252  570250940290342914          negative                        0.6866   \n",
       "4842   569685259412836354          negative                        1.0000   \n",
       "12219  570259700937134080           neutral                        0.7068   \n",
       "\n",
       "               negativereason  negativereason_confidence         airline  \\\n",
       "6773                      NaN                        NaN           Delta   \n",
       "244                       NaN                        NaN  Virgin America   \n",
       "12252            Lost Luggage                     0.3520        American   \n",
       "4842   Customer Service Issue                     0.6362       Southwest   \n",
       "12219                     NaN                     0.0000        American   \n",
       "\n",
       "      airline_sentiment_gold           name negativereason_gold  \\\n",
       "6773                     NaN      DaniP0915                 NaN   \n",
       "244                      NaN        InuAtah                 NaN   \n",
       "12252                    NaN       Kukirani                 NaN   \n",
       "4842                     NaN     bmeshoulam                 NaN   \n",
       "12219                    NaN  Jacqueline062                 NaN   \n",
       "\n",
       "       retweet_count                                               text  \\\n",
       "6773               0  @JetBlue flying w/ infant for the 1st time, ca...   \n",
       "244                0  @VirginAmerica classiq, luv Virgin America. Gr...   \n",
       "12252              0  @AmericanAir hi we have lost and found solutio...   \n",
       "4842               0  @SouthwestAir Tough I can take. Zero meaningfu...   \n",
       "12219              0  “@AmericanAir: Bet these birds wish they'd flo...   \n",
       "\n",
       "      tweet_coord              tweet_created           tweet_location  \\\n",
       "6773          NaN  2015-02-24 10:23:22 -0800  ÜT: 40.907502,-73.85468   \n",
       "244           NaN  2015-02-21 09:03:30 -0800                    Abuja   \n",
       "12252         NaN  2015-02-24 07:56:33 -0800                Worldwide   \n",
       "4842          NaN  2015-02-22 18:28:44 -0800            Cambridge, MA   \n",
       "12219         NaN  2015-02-24 08:31:22 -0800            Dallas, Texas   \n",
       "\n",
       "                    user_timezone  \n",
       "6773                        Quito  \n",
       "244                           NaN  \n",
       "12252                         NaN  \n",
       "4842       Atlantic Time (Canada)  \n",
       "12219  Central Time (US & Canada)  "
      ]
     },
     "execution_count": 27,
     "metadata": {},
     "output_type": "execute_result"
    }
   ],
   "source": [
    "data=pd.read_csv('Tweets.csv')\n",
    "data.sample(5)"
   ]
  },
  {
   "cell_type": "code",
   "execution_count": 11,
   "id": "1e6e7c8c",
   "metadata": {},
   "outputs": [
    {
     "data": {
      "text/plain": [
       "(14640, 15)"
      ]
     },
     "execution_count": 11,
     "metadata": {},
     "output_type": "execute_result"
    }
   ],
   "source": [
    "data.shape"
   ]
  },
  {
   "cell_type": "code",
   "execution_count": 33,
   "id": "2960c8dd",
   "metadata": {},
   "outputs": [
    {
     "name": "stderr",
     "output_type": "stream",
     "text": [
      "C:\\Users\\LENOVO\\anaconda3\\Lib\\site-packages\\seaborn\\_oldcore.py:1498: FutureWarning: is_categorical_dtype is deprecated and will be removed in a future version. Use isinstance(dtype, CategoricalDtype) instead\n",
      "  if pd.api.types.is_categorical_dtype(vector):\n",
      "C:\\Users\\LENOVO\\anaconda3\\Lib\\site-packages\\seaborn\\_oldcore.py:1498: FutureWarning: is_categorical_dtype is deprecated and will be removed in a future version. Use isinstance(dtype, CategoricalDtype) instead\n",
      "  if pd.api.types.is_categorical_dtype(vector):\n",
      "C:\\Users\\LENOVO\\anaconda3\\Lib\\site-packages\\seaborn\\_oldcore.py:1498: FutureWarning: is_categorical_dtype is deprecated and will be removed in a future version. Use isinstance(dtype, CategoricalDtype) instead\n",
      "  if pd.api.types.is_categorical_dtype(vector):\n"
     ]
    },
    {
     "data": {
      "image/png": "[encoded data removed]",
      "text/plain": [
       "<Figure size 640x480 with 1 Axes>"
      ]
     },
     "metadata": {},
     "output_type": "display_data"
    }
   ],
   "source": [
    "sns.countplot(data,x='airline_sentiment',palette='Paired')\n",
    "plt.show()"
   ]
  },
  {
   "cell_type": "code",
   "execution_count": null,
   "id": "115ccb20",
   "metadata": {},
   "outputs": [],
   "source": []
  },
  {
   "cell_type": "code",
   "execution_count": 42,
   "id": "da4e8a26",
   "metadata": {},
   "outputs": [
    {
     "data": {
      "text/plain": [
       "<Axes: xlabel='airline'>"
      ]
     },
     "execution_count": 42,
     "metadata": {},
     "output_type": "execute_result"
    },
    {
     "data": {
      "image/png": "[encoded data removed]",
      "text/plain": [
       "<Figure size 640x480 with 1 Axes>"
      ]
     },
     "metadata": {},
     "output_type": "display_data"
    }
   ],
   "source": [
    "# Airline sentiment summary\n",
    "\n",
    "airline_sentiment=data.groupby(['airline','airline_sentiment']).airline_sentiment.count().unstack()\n",
    "# This first group the data based on airlines and then each airline based on airline_sentiments. airline_sentiment.counts() \n",
    "# counts the value for each of the mentioned category.unstack() converts the second column i.e airline_sentiment into column headings\n",
    "# converting it into a dataframe.\n",
    "\n",
    "airline_sentiment.plot(kind='bar')"
   ]
  },
  {
   "cell_type": "code",
   "execution_count": 70,
   "id": "410e9cdf",
   "metadata": {},
   "outputs": [
    {
     "data": {
      "text/html": [
       "<div>\n",
       "<style scoped>\n",
       "    .dataframe tbody tr th:only-of-type {\n",
       "        vertical-align: middle;\n",
       "    }\n",
       "\n",
       "    .dataframe tbody tr th {\n",
       "        vertical-align: top;\n",
       "    }\n",
       "\n",
       "    .dataframe thead th {\n",
       "        text-align: right;\n",
       "    }\n",
       "</style>\n",
       "<table border=\"1\" class=\"dataframe\">\n",
       "  <thead>\n",
       "    <tr style=\"text-align: right;\">\n",
       "      <th></th>\n",
       "      <th>negativereason</th>\n",
       "      <th>count</th>\n",
       "    </tr>\n",
       "  </thead>\n",
       "  <tbody>\n",
       "    <tr>\n",
       "      <th>0</th>\n",
       "      <td>Customer Service Issue</td>\n",
       "      <td>2910</td>\n",
       "    </tr>\n",
       "    <tr>\n",
       "      <th>1</th>\n",
       "      <td>Late Flight</td>\n",
       "      <td>1665</td>\n",
       "    </tr>\n",
       "    <tr>\n",
       "      <th>2</th>\n",
       "      <td>Can't Tell</td>\n",
       "      <td>1190</td>\n",
       "    </tr>\n",
       "    <tr>\n",
       "      <th>3</th>\n",
       "      <td>Cancelled Flight</td>\n",
       "      <td>847</td>\n",
       "    </tr>\n",
       "    <tr>\n",
       "      <th>4</th>\n",
       "      <td>Lost Luggage</td>\n",
       "      <td>724</td>\n",
       "    </tr>\n",
       "    <tr>\n",
       "      <th>5</th>\n",
       "      <td>Bad Flight</td>\n",
       "      <td>580</td>\n",
       "    </tr>\n",
       "    <tr>\n",
       "      <th>6</th>\n",
       "      <td>Flight Booking Problems</td>\n",
       "      <td>529</td>\n",
       "    </tr>\n",
       "    <tr>\n",
       "      <th>7</th>\n",
       "      <td>Flight Attendant Complaints</td>\n",
       "      <td>481</td>\n",
       "    </tr>\n",
       "    <tr>\n",
       "      <th>8</th>\n",
       "      <td>longlines</td>\n",
       "      <td>178</td>\n",
       "    </tr>\n",
       "    <tr>\n",
       "      <th>9</th>\n",
       "      <td>Damaged Luggage</td>\n",
       "      <td>74</td>\n",
       "    </tr>\n",
       "  </tbody>\n",
       "</table>\n",
       "</div>"
      ],
      "text/plain": [
       "                negativereason  count\n",
       "0       Customer Service Issue   2910\n",
       "1                  Late Flight   1665\n",
       "2                   Can't Tell   1190\n",
       "3             Cancelled Flight    847\n",
       "4                 Lost Luggage    724\n",
       "5                   Bad Flight    580\n",
       "6      Flight Booking Problems    529\n",
       "7  Flight Attendant Complaints    481\n",
       "8                    longlines    178\n",
       "9              Damaged Luggage     74"
      ]
     },
     "execution_count": 70,
     "metadata": {},
     "output_type": "execute_result"
    }
   ],
   "source": [
    "neg_reasons=pd.DataFrame(data.negativereason.value_counts()).reset_index()\n",
    "neg_reasons"
   ]
  },
  {
   "cell_type": "code",
   "execution_count": 82,
   "id": "fe46e684",
   "metadata": {},
   "outputs": [
    {
     "name": "stderr",
     "output_type": "stream",
     "text": [
      "C:\\Users\\LENOVO\\anaconda3\\Lib\\site-packages\\seaborn\\_oldcore.py:1498: FutureWarning: is_categorical_dtype is deprecated and will be removed in a future version. Use isinstance(dtype, CategoricalDtype) instead\n",
      "  if pd.api.types.is_categorical_dtype(vector):\n",
      "C:\\Users\\LENOVO\\anaconda3\\Lib\\site-packages\\seaborn\\_oldcore.py:1498: FutureWarning: is_categorical_dtype is deprecated and will be removed in a future version. Use isinstance(dtype, CategoricalDtype) instead\n",
      "  if pd.api.types.is_categorical_dtype(vector):\n",
      "C:\\Users\\LENOVO\\anaconda3\\Lib\\site-packages\\seaborn\\_oldcore.py:1498: FutureWarning: is_categorical_dtype is deprecated and will be removed in a future version. Use isinstance(dtype, CategoricalDtype) instead\n",
      "  if pd.api.types.is_categorical_dtype(vector):\n"
     ]
    },
    {
     "data": {
      "image/png": "[encoded data removed]",
      "text/plain": [
       "<Figure size 800x800 with 1 Axes>"
      ]
     },
     "metadata": {},
     "output_type": "display_data"
    }
   ],
   "source": [
    "plt.figure(figsize=(8,8))\n",
    "# sns.bar(neg_reasons['negativereason'], neg_reasons['count'])  # No double square brackets here\n",
    "sns.barplot(x=neg_reasons['negativereason'],y=neg_reasons['count'])\n",
    "plt.xticks(rotation=90, ha='right')\n",
    "plt.show()"
   ]
  },
  {
   "cell_type": "code",
   "execution_count": 87,
   "id": "e947a54a",
   "metadata": {},
   "outputs": [
    {
     "name": "stdout",
     "output_type": "stream",
     "text": [
      "Requirement already satisfied: wordcloud in c:\\users\\lenovo\\anaconda3\\lib\\site-packages (1.9.3)\n",
      "Requirement already satisfied: numpy>=1.6.1 in c:\\users\\lenovo\\anaconda3\\lib\\site-packages (from wordcloud) (1.24.3)\n",
      "Requirement already satisfied: pillow in c:\\users\\lenovo\\anaconda3\\lib\\site-packages (from wordcloud) (9.4.0)\n",
      "Requirement already satisfied: matplotlib in c:\\users\\lenovo\\anaconda3\\lib\\site-packages (from wordcloud) (3.7.1)\n",
      "Requirement already satisfied: contourpy>=1.0.1 in c:\\users\\lenovo\\anaconda3\\lib\\site-packages (from matplotlib->wordcloud) (1.0.5)\n",
      "Requirement already satisfied: cycler>=0.10 in c:\\users\\lenovo\\anaconda3\\lib\\site-packages (from matplotlib->wordcloud) (0.11.0)\n",
      "Requirement already satisfied: fonttools>=4.22.0 in c:\\users\\lenovo\\anaconda3\\lib\\site-packages (from matplotlib->wordcloud) (4.25.0)\n",
      "Requirement already satisfied: kiwisolver>=1.0.1 in c:\\users\\lenovo\\anaconda3\\lib\\site-packages (from matplotlib->wordcloud) (1.4.4)\n",
      "Requirement already satisfied: packaging>=20.0 in c:\\users\\lenovo\\anaconda3\\lib\\site-packages (from matplotlib->wordcloud) (23.0)\n",
      "Requirement already satisfied: pyparsing>=2.3.1 in c:\\users\\lenovo\\anaconda3\\lib\\site-packages (from matplotlib->wordcloud) (3.0.9)\n",
      "Requirement already satisfied: python-dateutil>=2.7 in c:\\users\\lenovo\\anaconda3\\lib\\site-packages (from matplotlib->wordcloud) (2.8.2)\n",
      "Requirement already satisfied: six>=1.5 in c:\\users\\lenovo\\anaconda3\\lib\\site-packages (from python-dateutil>=2.7->matplotlib->wordcloud) (1.16.0)\n"
     ]
    }
   ],
   "source": [
    "!pip install wordcloud\n",
    "\n",
    "from wordcloud import WordCloud, STOPWORDS"
   ]
  },
  {
   "cell_type": "code",
   "execution_count": 104,
   "id": "f9f64989",
   "metadata": {},
   "outputs": [],
   "source": [
    "airline_tweets=data[data['airline_sentiment']=='negative']\n",
    "words=' '.join(data['text'])\n",
    "# words.split()\n",
    "\n",
    "cleaned_word =\" \".join([word for word in words.split()\n",
    "                           if 'http' not in word\n",
    "                               and not word.startswith('@')\n",
    "                               and not word.startswith('&')\n",
    "                               and not word.startswith(':')\n",
    "                               and word != 'RT'\n",
    "                          ])"
   ]
  },
  {
   "cell_type": "code",
   "execution_count": 116,
   "id": "eb49a2c1",
   "metadata": {},
   "outputs": [
    {
     "data": {
      "text/plain": [
       "63"
      ]
     },
     "execution_count": 116,
     "metadata": {},
     "output_type": "execute_result"
    }
   ],
   "source": [
    "48+15"
   ]
  }
 ],
 "metadata": {
  "kernelspec": {
   "display_name": "Python 3 (ipykernel)",
   "language": "python",
   "name": "python3"
  },
  "language_info": {
   "codemirror_mode": {
    "name": "ipython",
    "version": 3
   },
   "file_extension": ".py",
   "mimetype": "text/x-python",
   "name": "python",
   "nbconvert_exporter": "python",
   "pygments_lexer": "ipython3",
   "version": "3.11.4"
  }
 },
 "nbformat": 4,
 "nbformat_minor": 5
}
